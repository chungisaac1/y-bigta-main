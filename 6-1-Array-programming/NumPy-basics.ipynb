{
 "cells": [
  {
   "cell_type": "code",
   "execution_count": 18,
   "metadata": {},
   "outputs": [],
   "source": [
    "import numpy as np"
   ]
  },
  {
   "cell_type": "markdown",
   "metadata": {},
   "source": [
    "### 1. np.array\n",
    "\n"
   ]
  },
  {
   "cell_type": "code",
   "execution_count": 19,
   "metadata": {},
   "outputs": [
    {
     "data": {
      "text/plain": [
       "array(0)"
      ]
     },
     "execution_count": 19,
     "metadata": {},
     "output_type": "execute_result"
    }
   ],
   "source": [
    "# 선언\n",
    "# https://numpy.org/doc/stable/reference/generated/numpy.array.html\n",
    "np.array(0)"
   ]
  },
  {
   "cell_type": "code",
   "execution_count": 20,
   "metadata": {},
   "outputs": [
    {
     "data": {
      "text/plain": [
       "(array([1, 2, 3]),\n",
       " array([[1.5, 2. , 3. ],\n",
       "        [4. , 5. , 6. ]]),\n",
       " array(['asdf', 'qwertt'], dtype='<U6'),\n",
       " array(['a', 'asdfasdfasdf'], dtype='<U12'))"
      ]
     },
     "execution_count": 20,
     "metadata": {},
     "output_type": "execute_result"
    }
   ],
   "source": [
    "# 다양한 type의 list를 넣어줄 수 있음\n",
    "np.array([1, 2, 3]),\\\n",
    "np.array([[1.5, 2, 3], [4, 5, 6]]),\\\n",
    "np.array([\"asdf\", \"qwertt\"]),\\\n",
    "np.array([\"a\", \"asdfasdfasdf\"])"
   ]
  },
  {
   "cell_type": "code",
   "execution_count": 21,
   "metadata": {},
   "outputs": [
    {
     "data": {
      "text/plain": [
       "(array([{1, 2}, {3, 4}], dtype=object),\n",
       " array([1, 'asdf', {'hi': 'hello'}], dtype=object))"
      ]
     },
     "execution_count": 21,
     "metadata": {},
     "output_type": "execute_result"
    }
   ],
   "source": [
    "# object도 가능\n",
    "np.array([{1, 2}, {3, 4}]),\\\n",
    "np.array([1, \"asdf\", {\"hi\": \"hello\"}])"
   ]
  },
  {
   "cell_type": "code",
   "execution_count": 22,
   "metadata": {},
   "outputs": [
    {
     "name": "stdout",
     "output_type": "stream",
     "text": [
      "1\n",
      "<map object at 0x7f7ef006ba30>\n",
      "<map object at 0x7f7ef006ba30>\n",
      "[0 1 2 3 4 5 6 7 8 9]\n"
     ]
    }
   ],
   "source": [
    "# 일반적으로 generator는 그냥 넣어주면 자동 spread가 안 된다는 점에 유의!\n",
    "generator = map(lambda x: x, range(10))\n",
    "zero = 1\n",
    "zero1 = np.array(zero)\n",
    "print(zero1)\n",
    "print(generator)\n",
    "arr1 = np.array(generator)\n",
    "arr2 = np.array([*generator])\n",
    "print(arr1)\n",
    "print(arr2)\n",
    "# map 함수는 객체를 만듬 변수 generator 는 객체가 됐고 이걸 그냥 집어 넣으면 객체\n",
    "# 안에 있는 값이 생성이 되는게 아니라 객체 자체가 들어감 \n",
    "# map 함수는 제너레이터 객체를 생성하는겨  "
   ]
  },
  {
   "cell_type": "code",
   "execution_count": 23,
   "metadata": {},
   "outputs": [
    {
     "name": "stdout",
     "output_type": "stream",
     "text": [
      "[[1, 2, 3], [4, 5, 6]]\n",
      "[[1 2 3]\n",
      " [4 5 6]]\n"
     ]
    }
   ],
   "source": [
    "# tolist method를 사용해 Python list로 변환해줄 수 있음\n",
    "# 둘 다 2차원 리스트이지만 \n",
    "arr1 =np.array([[1, 2, 3], [4, 5, 6]]).tolist() # 타입 속성이 list 이고 \n",
    "arr2 =np.array([[1, 2, 3], [4, 5, 6]])# 타입 속성이 ndarray 고성능 배열 구조 \n",
    "print(arr1)\n",
    "print(arr2)\n"
   ]
  },
  {
   "cell_type": "markdown",
   "metadata": {},
   "source": [
    "### 2. broadcasting"
   ]
  },
  {
   "cell_type": "code",
   "execution_count": 24,
   "metadata": {},
   "outputs": [
    {
     "ename": "TypeError",
     "evalue": "can only concatenate list (not \"int\") to list",
     "output_type": "error",
     "traceback": [
      "\u001b[0;31m---------------------------------------------------------------------------\u001b[0m",
      "\u001b[0;31mTypeError\u001b[0m                                 Traceback (most recent call last)",
      "Cell \u001b[0;32mIn[24], line 2\u001b[0m\n\u001b[1;32m      1\u001b[0m \u001b[38;5;66;03m# Python list는 scalar와의 덧셈을 허용하지 않음\u001b[39;00m\n\u001b[0;32m----> 2\u001b[0m \u001b[43m[\u001b[49m\u001b[38;5;241;43m1\u001b[39;49m\u001b[43m,\u001b[49m\u001b[43m \u001b[49m\u001b[38;5;241;43m2\u001b[39;49m\u001b[43m,\u001b[49m\u001b[43m \u001b[49m\u001b[38;5;241;43m3\u001b[39;49m\u001b[43m,\u001b[49m\u001b[43m \u001b[49m\u001b[38;5;241;43m4\u001b[39;49m\u001b[43m,\u001b[49m\u001b[43m \u001b[49m\u001b[38;5;241;43m5\u001b[39;49m\u001b[43m]\u001b[49m\u001b[43m \u001b[49m\u001b[38;5;241;43m+\u001b[39;49m\u001b[43m \u001b[49m\u001b[38;5;241;43m5\u001b[39;49m\n",
      "\u001b[0;31mTypeError\u001b[0m: can only concatenate list (not \"int\") to list"
     ]
    }
   ],
   "source": [
    "# Python list는 scalar와의 덧셈을 허용하지 않음\n",
    "[1, 2, 3, 4, 5] + 5"
   ]
  },
  {
   "cell_type": "code",
   "execution_count": null,
   "metadata": {},
   "outputs": [
    {
     "data": {
      "text/plain": [
       "[6, 7, 8, 9, 10]"
      ]
     },
     "execution_count": 28,
     "metadata": {},
     "output_type": "execute_result"
    }
   ],
   "source": [
    "# 더해주려면 map 등을 사용하여 직접 순회해야 함\n",
    "# map 은 함수를 적용될 요소에 적용을 해서 새로운 반복 가능한 객체를 만들어내는데 \n",
    "# *이거는 언패킹으로 모든 요소를 개별 요소로 풀어내는데 [] 리스트가 있으니 리스트 안에 풀어낸다 \n",
    "[*map(lambda x: x+5, [1, 2, 3, 4, 5])]"
   ]
  },
  {
   "cell_type": "code",
   "execution_count": null,
   "metadata": {},
   "outputs": [
    {
     "data": {
      "text/plain": [
       "(array([ 6,  7,  8,  9, 10]), array([ 6,  7,  8,  9, 10]))"
      ]
     },
     "execution_count": 15,
     "metadata": {},
     "output_type": "execute_result"
    }
   ],
   "source": [
    "# NumPy는 그냥 알아서 해줌\n",
    "# 순서 상관없이 가능\n",
    "np.array([1, 2, 3, 4, 5]) + 5,\\\n",
    "5 + np.array([1, 2, 3, 4, 5])"
   ]
  },
  {
   "cell_type": "code",
   "execution_count": null,
   "metadata": {},
   "outputs": [
    {
     "data": {
      "text/plain": [
       "(array([ 5, 10, 15, 20, 25]),\n",
       " array([0.2, 0.4, 0.6, 0.8, 1. ]),\n",
       " array([   1,   32,  243, 1024, 3125]),\n",
       " array([0, 0, 0, 0, 1]),\n",
       " array([1, 2, 3, 4, 0]),\n",
       " array([5.        , 2.5       , 1.66666667, 1.25      , 1.        ]),\n",
       " array([   5,   25,  125,  625, 3125]),\n",
       " array([5, 2, 1, 1, 1]),\n",
       " array([0, 1, 2, 1, 0]))"
      ]
     },
     "execution_count": 30,
     "metadata": {},
     "output_type": "execute_result"
    }
   ],
   "source": [
    "# 다양한 연산자 적용 가능\n",
    "np.array([1, 2, 3, 4, 5]) * 5,\\\n",
    "np.array([1, 2, 3, 4, 5]) / 5,\\\n",
    "np.array([1, 2, 3, 4, 5]) ** 5,\\\n",
    "np.array([1, 2, 3, 4, 5]) // 5,\\\n",
    "np.array([1, 2, 3, 4, 5]) % 5,\\\n",
    "5 / np.array([1, 2, 3, 4, 5]),\\\n",
    "5 ** np.array([1, 2, 3, 4, 5]),\\\n",
    "5 // np.array([1, 2, 3, 4, 5]),\\\n",
    "5 % np.array([1, 2, 3, 4, 5])"
   ]
  },
  {
   "cell_type": "code",
   "execution_count": null,
   "metadata": {},
   "outputs": [
    {
     "ename": "UFuncTypeError",
     "evalue": "ufunc 'add' did not contain a loop with signature matching types (dtype('<U6'), dtype('<U4')) -> None",
     "output_type": "error",
     "traceback": [
      "\u001b[0;31m---------------------------------------------------------------------------\u001b[0m",
      "\u001b[0;31mUFuncTypeError\u001b[0m                            Traceback (most recent call last)",
      "Cell \u001b[0;32mIn[24], line 1\u001b[0m\n\u001b[0;32m----> 1\u001b[0m \u001b[43mnp\u001b[49m\u001b[38;5;241;43m.\u001b[39;49m\u001b[43marray\u001b[49m\u001b[43m(\u001b[49m\u001b[43m[\u001b[49m\u001b[38;5;124;43m\"\u001b[39;49m\u001b[38;5;124;43masdf\u001b[39;49m\u001b[38;5;124;43m\"\u001b[39;49m\u001b[43m,\u001b[49m\u001b[43m \u001b[49m\u001b[38;5;124;43m\"\u001b[39;49m\u001b[38;5;124;43mqwerty\u001b[39;49m\u001b[38;5;124;43m\"\u001b[39;49m\u001b[43m]\u001b[49m\u001b[43m)\u001b[49m\u001b[43m \u001b[49m\u001b[38;5;241;43m+\u001b[39;49m\u001b[43m \u001b[49m\u001b[38;5;124;43m\"\u001b[39;49m\u001b[38;5;124;43mawef\u001b[39;49m\u001b[38;5;124;43m\"\u001b[39;49m\n",
      "\u001b[0;31mUFuncTypeError\u001b[0m: ufunc 'add' did not contain a loop with signature matching types (dtype('<U6'), dtype('<U4')) -> None"
     ]
    }
   ],
   "source": [
    "# type에 따라 항상 간편하게 되는 건 아님\n",
    "# 어차피 거의 항상 수 type만 쓸 거라 그렇게 중요하지는 않음\n",
    "# (다만 pandas 쓸 때 종종 필요, 여기서는 안 다룸)\n",
    "# https://numpy.org/doc/stable/reference/ufuncs.html\n",
    "np.array([\"asdf\", \"qwerty\"]) + \"awef\""
   ]
  },
  {
   "cell_type": "code",
   "execution_count": null,
   "metadata": {},
   "outputs": [
    {
     "name": "stdout",
     "output_type": "stream",
     "text": [
      "NumPy broadcasting: 0.029247458005556837\n",
      "Python list iteration: 5.630526166991331\n",
      "NumPy ndarray iteration: 11.663964832987403\n"
     ]
    },
    {
     "data": {
      "text/plain": [
       "(192.51335161919252, 398.80268674191524)"
      ]
     },
     "execution_count": 9,
     "metadata": {},
     "output_type": "execute_result"
    }
   ],
   "source": [
    "# NumPy는 내부적으로 C로 구현되어 있기 때문에 broadcasting을 포함한 모든 연산이 Python에 비해 몇백 배는 더 빠름!\n",
    "# 정말 불가피한 경우가 아니라면 절대 NumPy ndarray를 Python으로 loop 돌지 말 것!!!!!!\n",
    "# (후술할 기능들을 활용하면 99%의 경우는 vectorization으로 해결할 수 있음)\n",
    "# (https://en.wikipedia.org/wiki/Array_programming)\n",
    "# broad casting 이란 넘파이 라이브러리에서 서로 다른 크기의 배열 간에 수학 연산을 수행할 수 있게 해주는 \n",
    "from timeit import timeit\n",
    "\n",
    "N = 100000\n",
    "NUM = 1000\n",
    "\n",
    "arr_np = np.array(range(N))\n",
    "arr_py = [*range(N)]\n",
    "\n",
    "print(f\"\"\"\\\n",
    "NumPy broadcasting: {(t_np := timeit(lambda: arr_np+1, number=NUM))}\n",
    "Python list iteration: {(t_py := timeit(lambda: [*map(lambda x: x+1, arr_py)], number=NUM))}\n",
    "NumPy ndarray iteration: {(t_dumb := timeit(lambda: [*map(lambda x: x+1, arr_np)], number=NUM))}\"\"\")\n",
    "\n",
    "t_py / t_np, t_dumb / t_np"
   ]
  },
  {
   "cell_type": "markdown",
   "metadata": {},
   "source": [
    "### 3. shape, reshape"
   ]
  },
  {
   "cell_type": "code",
   "execution_count": null,
   "metadata": {},
   "outputs": [
    {
     "data": {
      "text/plain": [
       "numpy.ndarray"
      ]
     },
     "execution_count": 38,
     "metadata": {},
     "output_type": "execute_result"
    }
   ],
   "source": [
    "arr = np.array([[1, 2, 3],\n",
    "                [4, 5, 6]])\n",
    "type(arr)"
   ]
  },
  {
   "cell_type": "code",
   "execution_count": null,
   "metadata": {},
   "outputs": [
    {
     "data": {
      "text/plain": [
       "((2, 3), tuple)"
      ]
     },
     "execution_count": 37,
     "metadata": {},
     "output_type": "execute_result"
    }
   ],
   "source": [
    "# ndarray는 shape이라는 속성을 가지고 있음 (말 그대로 shape)\n",
    "# https://numpy.org/doc/stable/reference/generated/numpy.ndarray.shape.html\n",
    "arr.shape, type(arr.shape)"
   ]
  },
  {
   "cell_type": "code",
   "execution_count": null,
   "metadata": {},
   "outputs": [
    {
     "data": {
      "text/plain": [
       "(array([1, 2, 3, 4, 5, 6]),\n",
       " array([[1, 2],\n",
       "        [3, 4],\n",
       "        [5, 6]]),\n",
       " array([[1, 2],\n",
       "        [3, 4],\n",
       "        [5, 6]]),\n",
       " array([[1, 2],\n",
       "        [3, 4],\n",
       "        [5, 6]]),\n",
       " array([[[1, 2, 3, 4, 5, 6]]]))"
      ]
     },
     "execution_count": 44,
     "metadata": {},
     "output_type": "execute_result"
    }
   ],
   "source": [
    "# reshape method로 shape을 바꿔줄 수 있음\n",
    "# args로 그냥 넣어줘도 되고 iterable한 type으로 넣어줘도 됨\n",
    "# -1을 넣으면 자동으로 추론됨\n",
    "# https://numpy.org/doc/stable/reference/generated/numpy.ndarray.reshape.html\n",
    "arr.reshape(6),\\\n",
    "arr.reshape(3, 2),\\\n",
    "arr.reshape([3, 2]),# 리스트로 받겠따 \n",
    "arr.reshape((3, 2)),# 인자를 튜플로 받겠다 \n",
    "arr.reshape(1, 1, -1) # 3차원 배열로 변경 "
   ]
  },
  {
   "cell_type": "code",
   "execution_count": null,
   "metadata": {},
   "outputs": [
    {
     "data": {
      "text/plain": [
       "(array([[[1, 2],\n",
       "         [3, 4],\n",
       "         [5, 6]],\n",
       " \n",
       "        [[1, 2],\n",
       "         [3, 4],\n",
       "         [5, 6]]]),\n",
       " 3)"
      ]
     },
     "execution_count": 148,
     "metadata": {},
     "output_type": "execute_result"
    }
   ],
   "source": [
    "# 차원수를 나타내는 ndim도 있음\n",
    "# https://numpy.org/doc/stable/reference/generated/numpy.ndarray.ndim.html\n",
    "(arr := np.array([[[1, 2], [3, 4], [5, 6]],\n",
    "                  [[1, 2], [3, 4], [5, 6]]])),\\\n",
    "arr.ndim"
   ]
  },
  {
   "cell_type": "code",
   "execution_count": null,
   "metadata": {},
   "outputs": [
    {
     "data": {
      "text/plain": [
       "array([0, 1, 2, 3, 4, 5, 6, 7, 8, 9])"
      ]
     },
     "execution_count": 43,
     "metadata": {},
     "output_type": "execute_result"
    }
   ],
   "source": [
    "# np.arange로 range가 들어간 ndarray를 선언할 수 있음\n",
    "# https://numpy.org/doc/stable/reference/generated/numpy.arange.html\n",
    "(arr2 := np.arange(10))\n",
    "# :) 배열을 생성하면서 값을 한 번에 지정할 수 있는 "
   ]
  },
  {
   "cell_type": "code",
   "execution_count": null,
   "metadata": {},
   "outputs": [
    {
     "data": {
      "text/plain": [
       "(array([[0., 0., 0., 0.],\n",
       "        [0., 0., 0., 0.],\n",
       "        [0., 0., 0., 0.]]),\n",
       " array([[1., 1., 1.],\n",
       "        [1., 1., 1.],\n",
       "        [1., 1., 1.],\n",
       "        [1., 1., 1.]]))"
      ]
     },
     "execution_count": 49,
     "metadata": {},
     "output_type": "execute_result"
    }
   ],
   "source": [
    "# np.zeros, np.ones로 임의의 shape을 가진 zero/one ndarray를 선언할 수 있음\n",
    "# https://numpy.org/doc/stable/reference/generated/numpy.zeros.html\n",
    "# https://numpy.org/doc/stable/reference/generated/numpy.ones.html\n",
    "np.zeros((3, 4)), np.ones((4, 3))"
   ]
  },
  {
   "cell_type": "code",
   "execution_count": null,
   "metadata": {},
   "outputs": [
    {
     "data": {
      "text/plain": [
       "(array([[0, 0, 0, 0],\n",
       "        [0, 0, 0, 0],\n",
       "        [0, 0, 0, 0]]),\n",
       " array([[0, 0, 0, 0],\n",
       "        [0, 0, 0, 0],\n",
       "        [0, 0, 0, 0]], dtype=uint8),\n",
       " array([['', '', '', ''],\n",
       "        ['', '', '', ''],\n",
       "        ['', '', '', '']], dtype='<U1'),\n",
       " array([[False, False, False, False],\n",
       "        [False, False, False, False],\n",
       "        [False, False, False, False]]))"
      ]
     },
     "execution_count": 1,
     "metadata": {},
     "output_type": "execute_result"
    }
   ],
   "source": [
    "# dtype을 지정해줄 수 있음\n",
    "np.zeros((3, 4), dtype=int),\\\n",
    "np.zeros((3, 4), dtype=np.uint8),\\\n",
    "np.zeros((3, 4), dtype=str),\\\n",
    "np.zeros((3, 4), dtype=bool)"
   ]
  },
  {
   "cell_type": "code",
   "execution_count": null,
   "metadata": {},
   "outputs": [
    {
     "data": {
      "text/plain": [
       "(array([[0, 0, 0, 0],\n",
       "        [0, 0, 0, 0],\n",
       "        [0, 0, 0, 0]]),\n",
       " array([[1, 1, 1, 1],\n",
       "        [1, 1, 1, 1],\n",
       "        [1, 1, 1, 1]]))"
      ]
     },
     "execution_count": 51,
     "metadata": {},
     "output_type": "execute_result"
    }
   ],
   "source": [
    "# np.zeros_like, np.ones_like로는 임의의 ndarray에 대해\n",
    "# 그 ndarray와 같은 shape을 가진 zeros, ones를 선언해줄 수 있음\n",
    "# https://numpy.org/doc/stable/reference/generated/numpy.zeros_like.html\n",
    "# https://numpy.org/doc/stable/reference/generated/numpy.ones_like.html\n",
    "arr = np.arange(12).reshape(3, 4)\n",
    "np.zeros_like(arr), np.ones_like(arr) # arr 과 같은 동일한 형태와 dtype을 가지며 모든 요소가 zero \n",
    "np.zeros((3, 4))"
   ]
  },
  {
   "cell_type": "code",
   "execution_count": null,
   "metadata": {},
   "outputs": [
    {
     "data": {
      "text/plain": [
       "(array([[4, 4, 4, 4],\n",
       "        [4, 4, 4, 4],\n",
       "        [4, 4, 4, 4]]),\n",
       " array([[4, 4, 4, 4],\n",
       "        [4, 4, 4, 4],\n",
       "        [4, 4, 4, 4]]))"
      ]
     },
     "execution_count": 137,
     "metadata": {},
     "output_type": "execute_result"
    }
   ],
   "source": [
    "# np.full, np.full_like도 있음\n",
    "# https://numpy.org/doc/stable/reference/generated/numpy.full.html\n",
    "# https://numpy.org/doc/stable/reference/generated/numpy.full_like.html\n",
    "np.full((3, 4), 4),\\\n",
    "np.full_like(arr, 4)"
   ]
  },
  {
   "cell_type": "code",
   "execution_count": null,
   "metadata": {},
   "outputs": [
    {
     "data": {
      "text/plain": [
       "array([[0.57619758, 0.39768426],\n",
       "       [0.1038751 , 0.24185609],\n",
       "       [0.6103595 , 0.28776369],\n",
       "       [0.42824445, 0.78561083],\n",
       "       [0.94347651, 0.35832466],\n",
       "       [0.99027412, 0.23295148],\n",
       "       [0.89482483, 0.48398947],\n",
       "       [0.4374283 , 0.24076402],\n",
       "       [0.77394997, 0.65633065],\n",
       "       [0.72965376, 0.32784481]])"
      ]
     },
     "execution_count": 108,
     "metadata": {},
     "output_type": "execute_result"
    }
   ],
   "source": [
    "# np.random.rand도 있음\n",
    "# https://numpy.org/doc/stable/reference/random/generated/numpy.random.rand.html\n",
    "np.random.rand(10, 2)"
   ]
  },
  {
   "cell_type": "markdown",
   "metadata": {},
   "source": [
    "### 4. indexing\n",
    "\n",
    "https://numpy.org/doc/stable/user/basics.indexing.html\n",
    "\n",
    "ndarrays can be indexed using the standard Python `x[obj]` syntax, where x is the array and obj the selection. There are different kinds of indexing available depending on obj: basic indexing, advanced indexing and field access.\n",
    "\n",
    "Most of the following examples show the use of indexing when referencing data in an array. The examples work just as well when assigning to an array. See Assigning values to indexed arrays for specific examples and explanations on how assignments work.\n",
    "\n",
    "Note that in Python, `x[(exp1, exp2, ..., expN)]` is equivalent to `x[exp1, exp2, ..., expN]`; the latter is just syntactic sugar for the former."
   ]
  },
  {
   "cell_type": "code",
   "execution_count": null,
   "metadata": {},
   "outputs": [
    {
     "name": "stdout",
     "output_type": "stream",
     "text": [
      "[[0, 1, 2, 3], [4, 5, 6, 7], [8, 9, 10, 11]]\n"
     ]
    },
    {
     "data": {
      "text/plain": [
       "([0, 1, 2, 3], list, 7, int)"
      ]
     },
     "execution_count": 68,
     "metadata": {},
     "output_type": "execute_result"
    }
   ],
   "source": [
    "# Python list의 indexing (익숙함)\n",
    "print(arr := np.arange(12).reshape(3, -1).tolist()) # -1 해당 차원의 크기를 자동으로 계산한다 .\n",
    "\n",
    "arr[0], type(arr[0]),\\\n",
    "arr[1][3], type(arr[1][3])"
   ]
  },
  {
   "cell_type": "code",
   "execution_count": null,
   "metadata": {},
   "outputs": [
    {
     "name": "stdout",
     "output_type": "stream",
     "text": [
      "[[ 0  1  2  3]\n",
      " [ 4  5  6  7]\n",
      " [ 8  9 10 11]]\n"
     ]
    },
    {
     "data": {
      "text/plain": [
       "(array([0, 1, 2, 3]), numpy.ndarray, 7, numpy.int64)"
      ]
     },
     "execution_count": 70,
     "metadata": {},
     "output_type": "execute_result"
    }
   ],
   "source": [
    "# np.ndarray의 indexing (다르다!)\n",
    "print(arr := np.arange(12).reshape(3, -1))\n",
    "\n",
    "arr[0], type(arr[0]),\\\n",
    "arr[1][3], type(arr[1][3])"
   ]
  },
  {
   "cell_type": "code",
   "execution_count": null,
   "metadata": {},
   "outputs": [
    {
     "data": {
      "text/plain": [
       "(2, numpy.int64)"
      ]
     },
     "execution_count": 73,
     "metadata": {},
     "output_type": "execute_result"
    }
   ],
   "source": [
    "# Python list는\n",
    "#   indexing -> list 반환 -> 그 list에 대해 다시 indexing\n",
    "# 하는 방식이라 각 축에 대해 각각 indexing을 해줘야 함\n",
    "# 하지만 np.ndarray는 indexing 방식이 달라서 대괄호 하나에 같이 넣어줘도 됨\n",
    "# (pandas 써봤으면 익숙할 듯)\n",
    "arr[0, 2], type(arr[0, 2]) # 원래는 arr[0][2] 이렇게 접근하는데 이렇게 한번에 써도 괜춘하다 "
   ]
  },
  {
   "cell_type": "code",
   "execution_count": null,
   "metadata": {},
   "outputs": [
    {
     "data": {
      "text/plain": [
       "(array([0, 1]), array([1, 5, 9]))"
      ]
     },
     "execution_count": 79,
     "metadata": {},
     "output_type": "execute_result"
    }
   ],
   "source": [
    "# 각 축에 대해 범위 지정 가능\n",
    "arr[0, :2], arr[:, 1]"
   ]
  },
  {
   "cell_type": "code",
   "execution_count": null,
   "metadata": {},
   "outputs": [
    {
     "data": {
      "text/plain": [
       "(array([[ 0,  1,  2,  3],\n",
       "        [ 8,  9, 10, 11]]),\n",
       " array([ 2, 10]))"
      ]
     },
     "execution_count": 83,
     "metadata": {},
     "output_type": "execute_result"
    }
   ],
   "source": [
    "# 다른 ndarray를 index로 사용할 수도 있음\n",
    "idx = np.array([0, 2])\n",
    "arr[idx], arr[idx, 2] # idx,2 는 0,2 를 사용해서 행을 선택하고 2를 사용하여 해당 행의 세 번째 요소를 선택 "
   ]
  },
  {
   "cell_type": "code",
   "execution_count": null,
   "metadata": {},
   "outputs": [
    {
     "data": {
      "text/plain": [
       "(array([[ True, False,  True, False,  True, False],\n",
       "        [ True, False,  True, False,  True, False],\n",
       "        [ True, False,  True, False,  True, False],\n",
       "        [ True, False,  True, False,  True, False],\n",
       "        [ True, False,  True, False,  True, False]]),\n",
       " array([ 0,  2,  4,  6,  8, 10, 12, 14, 16, 18, 20, 22, 24, 26, 28]))"
      ]
     },
     "execution_count": 179,
     "metadata": {},
     "output_type": "execute_result"
    }
   ],
   "source": [
    "# bool indexing 가능\n",
    "arr = np.arange(30).reshape(5, 6)\n",
    "arr % 2 == 0 , # true false 집어 넣는거\n",
    "arr[arr % 2 == 0] # true 값만 출ㅕㄱ하는거 "
   ]
  },
  {
   "cell_type": "code",
   "execution_count": null,
   "metadata": {},
   "outputs": [
    {
     "data": {
      "text/plain": [
       "array([[100,   1, 100,   3, 100,   5],\n",
       "       [100,   7, 100,   9, 100,  11],\n",
       "       [100,  13, 100,  15, 100,  17],\n",
       "       [100,  19, 100,  21, 100,  23],\n",
       "       [100,  25, 100,  27, 100,  29]])"
      ]
     },
     "execution_count": 180,
     "metadata": {},
     "output_type": "execute_result"
    }
   ],
   "source": [
    "# indexing으로 값을 assign해줄 수 있음\n",
    "arr[arr % 2 == 0] = 100\n",
    "arr # true 값을 다르게 집어 넣기 "
   ]
  },
  {
   "cell_type": "code",
   "execution_count": null,
   "metadata": {},
   "outputs": [],
   "source": [
    "# 팬시 인덱싱\n",
    "arr = np.array([10, 20, 30, 40, 50])\n",
    "idx = np.array([0, 2, 4])\n",
    "result = arr[idx]\n",
    "print(result)  # 출력: [10 30 50]\n",
    "\n",
    "# 일반 인덱싱 \n",
    "arr = np.array([10, 20, 30, 40, 50])\n",
    "result = arr[1]\n",
    "print(result)  # 출력: 20"
   ]
  },
  {
   "cell_type": "code",
   "execution_count": null,
   "metadata": {},
   "outputs": [
    {
     "data": {
      "text/plain": [
       "(array([9, 8, 7, 6, 5, 4, 3, 2, 1, 0]),\n",
       " array([[8, 6, 5],\n",
       "        [5, 4, 3]]))"
      ]
     },
     "execution_count": 226,
     "metadata": {},
     "output_type": "execute_result"
    }
   ],
   "source": [
    "# indexing한 결과는 index ndarray의 shape과 원본 array의 value를 가짐\n",
    "# np.array > 새로운 넘파이 배열을 생성하는거고 \n",
    "(arr := np.flip(np.arange(10))),# 플립은 거꾸로 \n",
    "arr[np.array([[1, 3, 4], [4, 5, 6]])] # 펜시 인덱싱 추가로 []이거를 사용해서 arr에 값들을 생성해서 하나더 만듬 "
   ]
  },
  {
   "cell_type": "markdown",
   "metadata": {},
   "source": [
    "### 5. axis"
   ]
  },
  {
   "cell_type": "code",
   "execution_count": null,
   "metadata": {},
   "outputs": [
    {
     "name": "stdout",
     "output_type": "stream",
     "text": [
      "[[ 0  1  2  3]\n",
      " [ 4  5  6  7]\n",
      " [ 8  9 10 11]]\n"
     ]
    },
    {
     "data": {
      "text/plain": [
       "66"
      ]
     },
     "execution_count": 94,
     "metadata": {},
     "output_type": "execute_result"
    }
   ],
   "source": [
    "# sum method를 그냥 쓰면 모든 원소에 대한 합이 반환됨\n",
    "print(arr := np.arange(12).reshape(3, -1))\n",
    "arr.sum()"
   ]
  },
  {
   "cell_type": "code",
   "execution_count": null,
   "metadata": {},
   "outputs": [
    {
     "data": {
      "text/plain": [
       "(array([12, 15, 18, 21]), array([ 6, 22, 38]))"
      ]
     },
     "execution_count": 93,
     "metadata": {},
     "output_type": "execute_result"
    }
   ],
   "source": [
    "# axis를 지정해주면 각 축을 기준으로 나눠 계산한 함수값을 얻을 수 있음\n",
    "arr.sum(axis=0), arr.sum(axis=1) # 0은 열이고 1은 행이네 "
   ]
  },
  {
   "cell_type": "code",
   "execution_count": null,
   "metadata": {},
   "outputs": [
    {
     "data": {
      "text/plain": [
       "(array([10.66666667, 10.66666667, 10.66666667, 10.66666667]),\n",
       " array([1.25, 1.25, 1.25]),\n",
       " array([10.66666667, 10.66666667, 10.66666667, 10.66666667]),\n",
       " array([1.25, 1.25, 1.25]))"
      ]
     },
     "execution_count": 99,
     "metadata": {},
     "output_type": "execute_result"
    }
   ],
   "source": [
    "# axis도 음수 indexing을 지원함\n",
    "# var 평균으로 부터 얼마나 떨어져있는지 \n",
    "# 0은 열 , 1 행 -1 열 -2 행 \n",
    "arr.var(0), arr.var(1), arr.var(-2), arr.var(-1)"
   ]
  },
  {
   "cell_type": "markdown",
   "metadata": {},
   "source": [
    "### 6. matrix multiplication"
   ]
  },
  {
   "cell_type": "code",
   "execution_count": null,
   "metadata": {},
   "outputs": [
    {
     "data": {
      "text/plain": [
       "(array([[1.02895413, 1.26322466, 0.92822828, 1.03067667, 1.08713945],\n",
       "        [1.42654049, 1.72142769, 0.99927296, 1.21795689, 1.39865419],\n",
       "        [1.00527738, 1.30838897, 0.9688197 , 0.99345965, 1.16352265]]),\n",
       " (3, 5))"
      ]
     },
     "execution_count": 110,
     "metadata": {},
     "output_type": "execute_result"
    }
   ],
   "source": [
    "# np.matmul을 사용해 행렬곱을 계산할 수 있음\n",
    "# https://numpy.org/doc/stable/reference/generated/numpy.matmul.html\n",
    "# rand 는 0과 1 사이에 난수를 생성하는 \n",
    "# 행렬 곱을 할려면 앞의 열의 수와 뒤의 행수가 맞아야 함 \n",
    "matmul = np.matmul(np.random.rand(3, 4), np.random.rand(4, 5))\n",
    "matmul, matmul.shape"
   ]
  },
  {
   "cell_type": "code",
   "execution_count": null,
   "metadata": {},
   "outputs": [
    {
     "data": {
      "text/plain": [
       "array([[0.35414023, 0.56397826, 0.82080352, 1.00452303, 0.45001898],\n",
       "       [0.84045558, 1.10986575, 1.48129959, 1.67266153, 1.49022925],\n",
       "       [0.67180036, 1.0921813 , 1.06036805, 1.27995334, 1.18820162]])"
      ]
     },
     "execution_count": 111,
     "metadata": {},
     "output_type": "execute_result"
    }
   ],
   "source": [
    "# Python 3.5부터는 동일한 기능의 `@` 연산자가 지원됨\n",
    "# https://peps.python.org/pep-0465/\n",
    "np.random.rand(3, 4) @ np.random.rand(4, 5)"
   ]
  },
  {
   "cell_type": "code",
   "execution_count": null,
   "metadata": {},
   "outputs": [
    {
     "data": {
      "text/plain": [
       "(2.4841264070665816, 2.499756659580059)"
      ]
     },
     "execution_count": 128,
     "metadata": {},
     "output_type": "execute_result"
    }
   ],
   "source": [
    "# ndim 1짜리도 차원을 잘 맞춰주면 가능\n",
    "np.random.rand(5) @ np.random.rand(5),\\\n",
    "np.random.rand(5) @ np.random.rand(5, 3) @ np.random.rand(3)"
   ]
  },
  {
   "cell_type": "code",
   "execution_count": null,
   "metadata": {},
   "outputs": [
    {
     "data": {
      "text/plain": [
       "(30, 10, 20, 3, 5)"
      ]
     },
     "execution_count": 114,
     "metadata": {},
     "output_type": "execute_result"
    }
   ],
   "source": [
    "# 행렬곱은 가장 마지막 두 차원에 대해서만 적용됨\n",
    "# 나머지는 일종의 batch라고 보면 될 듯\n",
    "# rand 안에 들어가 있는 갯수 만큼 차원을 나타내고 , 그 안에 shpae 는 숫자로 나타내고 \n",
    "# 차원 수 : 인자의 개수로 결정 \n",
    "# 각 차원의 크기 : 각 인자의 값으로 결정 \n",
    "(np.random.rand(30, 10, 20, 3, 4) @ np.random.rand(30, 10, 20, 4, 5)).shape"
   ]
  },
  {
   "cell_type": "code",
   "execution_count": null,
   "metadata": {},
   "outputs": [
    {
     "data": {
      "text/plain": [
       "(10, 3, 10, 5)"
      ]
     },
     "execution_count": 122,
     "metadata": {},
     "output_type": "execute_result"
    }
   ],
   "source": [
    "# np.dot도 있는데 얘는 np.matmul과 다름!\n",
    "# https://numpy.org/doc/stable/reference/generated/numpy.dot.html\n",
    "# dot은 내적곱이고 , matuml 은 행렬 곱 \n",
    "# npdot은 다차원 배열의 마지막 두 축을 따라 내적을 계산 할 때 \n",
    "# matuml 은 다차원 배열의 행렬 곱셈을 수행할 때, 브로드캐스팅 규칙을 적용하여 계산할 때 \n",
    "np.dot(np.random.rand(10, 3, 4), np.random.rand(10, 4, 5)).shape"
   ]
  },
  {
   "cell_type": "markdown",
   "metadata": {},
   "source": [
    "### 7. broadcasting 2\n",
    "\n",
    "https://numpy.org/doc/stable/user/basics.broadcasting.html\n",
    "\n",
    "The term broadcasting describes how NumPy treats arrays with different shapes during arithmetic operations. Subject to certain constraints, the smaller array is “broadcast” across the larger array so that they have compatible shapes. Broadcasting provides a means of vectorizing array operations so that looping occurs in C instead of Python. It does this without making needless copies of data and usually leads to efficient algorithm implementations. There are, however, cases where broadcasting is a bad idea because it leads to inefficient use of memory that slows computation."
   ]
  },
  {
   "cell_type": "code",
   "execution_count": null,
   "metadata": {},
   "outputs": [
    {
     "data": {
      "text/plain": [
       "(array([[2., 2., 2., 2.],\n",
       "        [2., 2., 2., 2.],\n",
       "        [2., 2., 2., 2.]]),\n",
       " array([[1., 1., 1., 1.],\n",
       "        [1., 1., 1., 1.],\n",
       "        [1., 1., 1., 1.]]))"
      ]
     },
     "execution_count": 138,
     "metadata": {},
     "output_type": "execute_result"
    }
   ],
   "source": [
    "# 기본적으로 np.ndarray끼리 shape이 맞으면 element-wise로 연산이 가능함 > wise랑 각 요소에 대해 개별적으로 수행되는 연산 \n",
    "# 브로드캐스팅 차원을 맞춰주고 크기도 맞춰줘서 계산 가능하게 해줌 \n",
    "# 두 배열의 차원수가 다르면 더 작은 배열의 앞쪽에 1을 추가하여 맞춰주고 > 동일 해야 계산이 가능하니 \n",
    "# 크기 도 확장해준다 . \n",
    "# 2이 이상 차이가 나도 (3,) 이었는데 앞에 추가해서 (1,1,3) 으로 만들어서 진행함 \n",
    "# 브로드캐스팅은 자동적으로 실행됨 \n",
    "np.ones((3, 4)) + np.ones((3, 4)),\\\n",
    "np.full((3, 4), 2) * np.full((3, 4), 0.5) # 2 와 0.5 는 2와 0.5 로 꽉 채운다 "
   ]
  },
  {
   "cell_type": "code",
   "execution_count": null,
   "metadata": {},
   "outputs": [
    {
     "data": {
      "text/plain": [
       "(array([[3.26140050e-04, 8.96505981e-01, 8.66986946e-01, 9.48103023e-01],\n",
       "        [3.26140050e-04, 8.96505981e-01, 8.66986946e-01, 9.48103023e-01],\n",
       "        [3.26140050e-04, 8.96505981e-01, 8.66986946e-01, 9.48103023e-01]]),\n",
       " array([[[0.83142786, 0.58701766, 0.26248931, 0.62964102],\n",
       "         [0.71525351, 0.6130546 , 0.22301827, 0.76363581],\n",
       "         [0.04965297, 0.95685862, 0.37065922, 0.56259034]],\n",
       " \n",
       "        [[0.83142786, 0.58701766, 0.26248931, 0.62964102],\n",
       "         [0.71525351, 0.6130546 , 0.22301827, 0.76363581],\n",
       "         [0.04965297, 0.95685862, 0.37065922, 0.56259034]]]))"
      ]
     },
     "execution_count": 152,
     "metadata": {},
     "output_type": "execute_result"
    }
   ],
   "source": [
    "# shape이 다르더라도 마지막 shape들만 일치하면 연산이 broadcasting됨\n",
    "# 맨뒤에 있는 4가 맞아야 함 그래야 최소한의 broadcasting 조건에 맞춘거임 \n",
    "np.zeros((3, 4)) + np.random.rand(4),\\\n",
    "np.zeros((2, 3, 4)) + np.random.rand(3, 4)"
   ]
  },
  {
   "cell_type": "code",
   "execution_count": null,
   "metadata": {},
   "outputs": [
    {
     "ename": "ValueError",
     "evalue": "operands could not be broadcast together with shapes (3,4,5) (3,5) ",
     "output_type": "error",
     "traceback": [
      "\u001b[0;31m---------------------------------------------------------------------------\u001b[0m",
      "\u001b[0;31mValueError\u001b[0m                                Traceback (most recent call last)",
      "Cell \u001b[0;32mIn[17], line 2\u001b[0m\n\u001b[1;32m      1\u001b[0m \u001b[38;5;66;03m# 확장은 마지막 shape에 대해서만 가능하므로 중간 축에 대해서는 broadcasting이 그냥은 안 됨\u001b[39;00m\n\u001b[0;32m----> 2\u001b[0m \u001b[43mnp\u001b[49m\u001b[38;5;241;43m.\u001b[39;49m\u001b[43mrandom\u001b[49m\u001b[38;5;241;43m.\u001b[39;49m\u001b[43mrand\u001b[49m\u001b[43m(\u001b[49m\u001b[38;5;241;43m3\u001b[39;49m\u001b[43m,\u001b[49m\u001b[43m \u001b[49m\u001b[38;5;241;43m4\u001b[39;49m\u001b[43m,\u001b[49m\u001b[43m \u001b[49m\u001b[38;5;241;43m5\u001b[39;49m\u001b[43m)\u001b[49m\u001b[43m \u001b[49m\u001b[38;5;241;43m+\u001b[39;49m\u001b[43m \u001b[49m\u001b[43mnp\u001b[49m\u001b[38;5;241;43m.\u001b[39;49m\u001b[43mrandom\u001b[49m\u001b[38;5;241;43m.\u001b[39;49m\u001b[43mrand\u001b[49m\u001b[43m(\u001b[49m\u001b[38;5;241;43m3\u001b[39;49m\u001b[43m,\u001b[49m\u001b[43m \u001b[49m\u001b[38;5;241;43m5\u001b[39;49m\u001b[43m)\u001b[49m\n",
      "\u001b[0;31mValueError\u001b[0m: operands could not be broadcast together with shapes (3,4,5) (3,5) "
     ]
    }
   ],
   "source": [
    "# 확장은 마지막 shape에 대해서만 가능하므로 중간 축에 대해서는 broadcasting이 그냥은 안 됨\n",
    "# 앞에 차원을 추가하는건 괜찮은데 1,3,5 이런식으로 그러면 중간에 4와 3이 달라져 버리니 계산이 안됨 \n",
    "# 차원이 안 맞는거면 앞에 만 맞춰주기 가능 \n",
    "np.random.rand(3, 4, 5) + np.random.rand(3, 5)"
   ]
  },
  {
   "cell_type": "code",
   "execution_count": null,
   "metadata": {},
   "outputs": [
    {
     "data": {
      "text/plain": [
       "array([[[0.78272212, 1.05302547, 1.26495554, 0.87008855, 0.46766018],\n",
       "        [0.48420391, 1.237191  , 1.49356965, 0.09908313, 0.54358748],\n",
       "        [0.84754018, 1.43614255, 0.97486643, 0.4282609 , 1.30186565],\n",
       "        [1.03392039, 0.75504258, 1.18397431, 0.97190772, 1.09343804]],\n",
       "\n",
       "       [[1.49648931, 0.97398053, 1.06682536, 1.31644426, 1.38939346],\n",
       "        [1.07186166, 0.43095672, 1.21837801, 1.34352229, 1.49450152],\n",
       "        [0.80058364, 0.76496534, 0.99227412, 0.99467391, 1.49471781],\n",
       "        [0.84047588, 0.41322266, 0.87816537, 0.68124681, 1.19075876]],\n",
       "\n",
       "       [[1.55586332, 0.89615889, 0.82637602, 0.62842137, 1.80461   ],\n",
       "        [1.53885767, 1.04177428, 0.68207707, 1.27883062, 0.94736026],\n",
       "        [0.81430387, 1.57806806, 0.59942655, 0.46179459, 1.45353229],\n",
       "        [1.5331767 , 1.42546282, 0.32656134, 0.39078352, 1.12534879]]])"
      ]
     },
     "execution_count": 154,
     "metadata": {},
     "output_type": "execute_result"
    }
   ],
   "source": [
    "# 이 경우 broadcasting하고 싶은 축의 크기를 1로 잡아주면 가능\n",
    "# 이렇게 하면 1이 브로드캐스팅 해서 4만큼 차원 증가 시킴 \n",
    "# 브로드캐스팅이라는게 차원을 확장시키는 건가보다 \n",
    "np.random.rand(3, 4, 5) + np.random.rand(3, 1, 5)"
   ]
  },
  {
   "cell_type": "code",
   "execution_count": null,
   "metadata": {},
   "outputs": [
    {
     "data": {
      "text/plain": [
       "(10, 20, 30, 4, 6)"
      ]
     },
     "execution_count": 157,
     "metadata": {},
     "output_type": "execute_result"
    }
   ],
   "source": [
    "# 양쪽에서 broadcasting하는 것도 가능\n",
    "# 브로드 캐스팅 조건 차원의 크기 가 1일 때 가능하다 2 차원의 짝이 맞을 때 가능하다 \n",
    "# 차원의 짝을 맞출려고 증가시키기도 하고 그 대신 중간에 값이 있다면 1로 설정을 해야 한다 \n",
    "# 이게 되는 이유는 1은 > 20으로 증가 시킨다 그래서 20이 되고 30이 된다 그리고 4,6 a,c 로 선택이 된다 \n",
    "# (a,b)\n",
    "# (b,c)\n",
    "\n",
    "(np.random.rand(10, 1, 30, 4, 5) @ np.random.rand(10, 20, 1, 5, 6)).shape"
   ]
  },
  {
   "cell_type": "code",
   "execution_count": null,
   "metadata": {},
   "outputs": [],
   "source": []
  },
  {
   "cell_type": "markdown",
   "metadata": {},
   "source": [
    "### 8. squeeze, expand_dims, transpose"
   ]
  },
  {
   "cell_type": "code",
   "execution_count": null,
   "metadata": {},
   "outputs": [],
   "source": [
    "# squeeze > 크기가 1인 차원을 제거 \n",
    "# expand_dims > 배열에 새로운 축을 추가 \n",
    "# transpose > 배열의 축을 바꾸어줌 "
   ]
  },
  {
   "cell_type": "code",
   "execution_count": null,
   "metadata": {},
   "outputs": [
    {
     "data": {
      "text/plain": [
       "((10, 20, 2), (10, 20, 1, 1, 2), (10, 20, 1, 2), (10, 20, 2))"
      ]
     },
     "execution_count": 167,
     "metadata": {},
     "output_type": "execute_result"
    }
   ],
   "source": [
    "# squeeze method를 사용해 크기가 1인 차원을 없앨 수 있음\n",
    "# axis를 하나 또는 여럿 지정하는 것도 가능\n",
    "# 1인 차원을 왜 없애는가 배열의 차원을 간소화하고 데이터 처리와 계산을 더 효율적으로 하기 위해서 이미지 데이터, 시간 시퀸스 데이터가 있음 \n",
    "# https://numpy.org/doc/stable/reference/generated/numpy.ndarray.squeeze.html\n",
    "arr = np.random.rand(10, 1, 20, 1, 1, 2)\n",
    "arr.squeeze().shape, # 1 크기의 차원을 다 지워라 \n",
    "arr.squeeze(1).shape, # 첫번째 1인 차원을 지워라 \n",
    "arr.squeeze((1, 3)).shape,# 인덱스 1과 3에 있는 크기가 1인 차원을 지워라 \n",
    "np.squeeze(arr).shape # 1 지워라 "
   ]
  },
  {
   "cell_type": "code",
   "execution_count": null,
   "metadata": {},
   "outputs": [
    {
     "data": {
      "text/plain": [
       "((10, 1, 20, 2), (10, 1, 1, 20, 2))"
      ]
     },
     "execution_count": 170,
     "metadata": {},
     "output_type": "execute_result"
    }
   ],
   "source": [
    "# 반대로 np.expand_dims로 새 축을 만들어줄 수도 있음 \n",
    "# 배열의 새로운 차원을 추가하는 \n",
    "# https://numpy.org/doc/stable/reference/generated/numpy.expand_dims.html\n",
    "arr = np.random.rand(10, 20, 2)\n",
    "np.expand_dims(arr, 1).shape,# 첫번째 인덱스에 추가 \n",
    "np.expand_dims(arr, (1, 2)).shape # 첫번째 인덱스에 값을 두개 넣어라 "
   ]
  },
  {
   "cell_type": "code",
   "execution_count": null,
   "metadata": {},
   "outputs": [
    {
     "data": {
      "text/plain": [
       "((10, 30, 20), (20, 30, 10))"
      ]
     },
     "execution_count": 1,
     "metadata": {},
     "output_type": "execute_result"
    }
   ],
   "source": [
    "# transpose도 가능\n",
    "# 배열의 축을 재배열하는데 사용 \n",
    "# 어디서 사용 하냐 > 데이터 전처리 (컬럼 순서 변경) 행렬 연사 , 모델 입력 데이터 형태 맞출 때 \n",
    "# https://numpy.org/doc/stable/reference/generated/numpy.ndarray.transpose.html\n",
    "arr = np.random.rand(10, 20, 30)\n",
    "arr.transpose(0, 2, 1).shape,\\\n",
    "arr.transpose(1, 2, 0).shape"
   ]
  },
  {
   "cell_type": "code",
   "execution_count": null,
   "metadata": {},
   "outputs": [
    {
     "data": {
      "text/plain": [
       "(10, 30, 20)"
      ]
     },
     "execution_count": 4,
     "metadata": {},
     "output_type": "execute_result"
    }
   ],
   "source": [
    "# 두 축끼리만 바꾸고 싶으면 np.moveaxis를 쓸 수 있음\n",
    "# https://numpy.org/doc/stable/reference/generated/numpy.moveaxis.html\n",
    "np.moveaxis(arr, -1, -2).shape"
   ]
  },
  {
   "cell_type": "code",
   "execution_count": null,
   "metadata": {},
   "outputs": [
    {
     "data": {
      "text/plain": [
       "(30, 20, 10)"
      ]
     },
     "execution_count": 3,
     "metadata": {},
     "output_type": "execute_result"
    }
   ],
   "source": [
    "# ndarray.T도 있음\n",
    "# 모든 축을 반대로 뒤집는 \n",
    "# https://numpy.org/doc/stable/reference/generated/numpy.ndarray.T.html\n",
    "arr.T.shape"
   ]
  },
  {
   "cell_type": "markdown",
   "metadata": {},
   "source": [
    "### 9. stack, concatenate"
   ]
  },
  {
   "cell_type": "code",
   "execution_count": null,
   "metadata": {},
   "outputs": [],
   "source": [
    "# stack , concatenate > 넘파이에서 배열을 결합하는 두 가지 방법 \n",
    "# stack 은 여러 배열을 새로운 축을 따라 쌓아 새로운 배열 만들기 기존 배열의 차원을 확장하여 새로운 축을 추가 \n",
    "# concatenate > 여러 배열을 기존 축을 따라 연결 > 새로운 축을 추가하지 않고 주어진 축을 다라 배열을 연결  \n",
    "# stack 은 쌓는거고 개별적으로 concatenate 는 붙이는 거고 "
   ]
  },
  {
   "cell_type": "code",
   "execution_count": null,
   "metadata": {},
   "outputs": [
    {
     "data": {
      "text/plain": [
       "(array([[[0., 0., 0., 0., 0.],\n",
       "         [0., 0., 0., 0., 0.]],\n",
       " \n",
       "        [[1., 1., 1., 1., 1.],\n",
       "         [1., 1., 1., 1., 1.]],\n",
       " \n",
       "        [[2., 2., 2., 2., 2.],\n",
       "         [2., 2., 2., 2., 2.]]]),\n",
       " (3, 2, 5))"
      ]
     },
     "execution_count": 187,
     "metadata": {},
     "output_type": "execute_result"
    }
   ],
   "source": [
    "# np.stack을 사용해 여러 ndarray를 쌓아줄 수 있음\n",
    "# https://numpy.org/doc/stable/reference/generated/numpy.stack.html\n",
    "arr0 = np.zeros((2, 5))\n",
    "arr1 = np.ones((2, 5))\n",
    "arr2 = np.full((2, 5), 2)\n",
    "\n",
    "(stack := np.stack([arr0, arr1, arr2])), stack.shape"
   ]
  },
  {
   "cell_type": "code",
   "execution_count": null,
   "metadata": {},
   "outputs": [
    {
     "data": {
      "text/plain": [
       "(array([[0., 0., 0., 0., 0.],\n",
       "        [0., 0., 0., 0., 0.],\n",
       "        [1., 1., 1., 1., 1.],\n",
       "        [1., 1., 1., 1., 1.],\n",
       "        [2., 2., 2., 2., 2.],\n",
       "        [2., 2., 2., 2., 2.]]),\n",
       " (6, 5))"
      ]
     },
     "execution_count": 193,
     "metadata": {},
     "output_type": "execute_result"
    }
   ],
   "source": [
    "# np.concatenate을 사용해 여러 ndarray를 붙여줄 수 있음\n",
    "# https://numpy.org/doc/stable/reference/generated/numpy.concatenate.html\n",
    "(concat := np.concatenate([arr0, arr1, arr2])), concat.shape"
   ]
  },
  {
   "cell_type": "code",
   "execution_count": null,
   "metadata": {},
   "outputs": [
    {
     "data": {
      "text/plain": [
       "((2, 3, 5), (2, 15))"
      ]
     },
     "execution_count": 192,
     "metadata": {},
     "output_type": "execute_result"
    }
   ],
   "source": [
    "# 둘 다 축 지정 가능 \n",
    "# 저 1 은 axis =1 임 그래서 열 방향으로 쌓겠다는 말 \n",
    "# [1 3 5\n",
    "#  2 4 6 ]\n",
    "np.stack([arr0, arr1, arr2], 1).shape,\\\n",
    "np.concatenate([arr0, arr1, arr2], 1).shape"
   ]
  },
  {
   "cell_type": "code",
   "execution_count": null,
   "metadata": {},
   "outputs": [
    {
     "data": {
      "text/plain": [
       "(<function column_stack at 0x115139a70>,\n",
       " <function vstack at 0x1149b7ab0>,\n",
       " <function vstack at 0x1149b7ab0>,\n",
       " <function hstack at 0x1149b7c30>)"
      ]
     },
     "execution_count": 197,
     "metadata": {},
     "output_type": "execute_result"
    }
   ],
   "source": [
    "# 파생 기능도 여럿 있음 (궁금하면 알아서 찾아볼 것)\n",
    "np.column_stack, np.row_stack, np.vstack, np.hstack"
   ]
  },
  {
   "cell_type": "markdown",
   "metadata": {},
   "source": [
    "np.column_stack: 1차원 배열을 열로 쌓아 2차원 배열을 만듭니다. 2차원 배열을 결합할 때는 동일한 차원의 배열을 열로 결합합니다.\n",
    "np.row_stack: 1차원 배열을 행으로 쌓아 2차원 배열을 만듭니다. 2차원 배열을 결합할 때는 동일한 차원의 배열을 행으로 결합합니다.\n",
    "np.vstack: 배열을 수직으로 쌓아 새로운 배열을 만듭니다. np.row_stack과 동일하게 작동합니다.\n",
    "np.hstack: 배열을 수평으로 쌓아 새로운 배열을 만듭니다. np.column_stack과 동일하게 작동합니다."
   ]
  },
  {
   "cell_type": "markdown",
   "metadata": {},
   "source": [
    "### 10. 기타 기능"
   ]
  },
  {
   "cell_type": "code",
   "execution_count": null,
   "metadata": {},
   "outputs": [
    {
     "data": {
      "text/plain": [
       "(array([[ 9,  4, 28, 22, 20,  1],\n",
       "        [19, 29,  2,  6, 12, 15],\n",
       "        [26,  5, 27,  3, 11, 17],\n",
       "        [14,  8, 21, 10, 24,  0],\n",
       "        [18, 13, 16,  7, 23, 25]]),\n",
       " array([[0, 0, 1, 2, 2, 3],\n",
       "        [3, 2, 4, 1, 1, 0],\n",
       "        [4, 3, 3, 4, 0, 1],\n",
       "        [1, 4, 2, 3, 4, 2],\n",
       "        [2, 1, 0, 0, 3, 4]]),\n",
       " array([[5, 1, 0, 4, 3, 2],\n",
       "        [2, 3, 4, 5, 0, 1],\n",
       "        [3, 1, 4, 5, 0, 2],\n",
       "        [5, 1, 3, 0, 2, 4],\n",
       "        [3, 1, 2, 0, 4, 5]]))"
      ]
     },
     "execution_count": 207,
     "metadata": {},
     "output_type": "execute_result"
    }
   ],
   "source": [
    "# argsort라는 것도 있음\n",
    "# https://numpy.org/doc/stable/reference/generated/numpy.argsort.html\n",
    "(arr := np.random.permutation(30).reshape(5, -1)),# 0부터 29까지 숫자를 랜덤하게 섞어 5,6형태로 재구성한다 \n",
    "# 여기서 -1 은 numpy가 자동으로 적절한 차원을 계산하도록 한다.\n",
    "arr.argsort(0),# 배열 arr의 각 열을 정렬했을 때 의 인덱스를 반환 \n",
    "arr.argsort(1) # 행을 정렬했을 때의 인덱스 반환 \n",
    "# 0이라고 할 때 그래서 오름차순으로 정렬하기 때문에 9가 제일 낮은 값이라 0 이렇게 쓰고 \n",
    "# 1은 행으로 하기 때문에 9가 5가 되고 "
   ]
  },
  {
   "cell_type": "code",
   "execution_count": null,
   "metadata": {},
   "outputs": [
    {
     "data": {
      "text/plain": [
       "4.58257569495584"
      ]
     },
     "execution_count": 209,
     "metadata": {},
     "output_type": "execute_result"
    }
   ],
   "source": [
    "# np.linalg는 이름 그대로 선형대수 관련 기능들이 들어있는 submodule\n",
    "# 벡터 또는 행렬의 노름을 계산하는데 사용 , 즉 유클리드 노름 을 계산 \n",
    "# 원점에서 해당 벡터로의 거리를 나타낸다 \n",
    "# https://numpy.org/doc/stable/reference/routines.linalg.html\n",
    "np.linalg.norm(np.array([1, 2, 4]))"
   ]
  },
  {
   "cell_type": "code",
   "execution_count": null,
   "metadata": {},
   "outputs": [
    {
     "data": {
      "text/plain": [
       "array([[10.        , 20.        ],\n",
       "       [12.22222222, 22.22222222],\n",
       "       [14.44444444, 24.44444444],\n",
       "       [16.66666667, 26.66666667],\n",
       "       [18.88888889, 28.88888889],\n",
       "       [21.11111111, 31.11111111],\n",
       "       [23.33333333, 33.33333333],\n",
       "       [25.55555556, 35.55555556],\n",
       "       [27.77777778, 37.77777778],\n",
       "       [30.        , 40.        ]])"
      ]
     },
     "execution_count": 219,
     "metadata": {},
     "output_type": "execute_result"
    }
   ],
   "source": [
    "# np.linspace\n",
    "# 지정된 범위 내에서 균일하게 분할된 수열을 생성 \n",
    "# https://numpy.org/doc/stable/reference/generated/numpy.linspace.html\n",
    "np.linspace((10, 20), (30, 40), num=10, axis=0)"
   ]
  },
  {
   "cell_type": "code",
   "execution_count": null,
   "metadata": {},
   "outputs": [
    {
     "data": {
      "text/plain": [
       "array([[1., 0., 0., 0., 0., 0., 0., 0., 0., 0.],\n",
       "       [0., 1., 0., 0., 0., 0., 0., 0., 0., 0.],\n",
       "       [0., 0., 1., 0., 0., 0., 0., 0., 0., 0.],\n",
       "       [0., 0., 0., 1., 0., 0., 0., 0., 0., 0.],\n",
       "       [0., 0., 0., 0., 1., 0., 0., 0., 0., 0.],\n",
       "       [0., 0., 0., 0., 0., 1., 0., 0., 0., 0.],\n",
       "       [0., 0., 0., 0., 0., 0., 1., 0., 0., 0.],\n",
       "       [0., 0., 0., 0., 0., 0., 0., 1., 0., 0.],\n",
       "       [0., 0., 0., 0., 0., 0., 0., 0., 1., 0.],\n",
       "       [0., 0., 0., 0., 0., 0., 0., 0., 0., 1.]])"
      ]
     },
     "execution_count": 220,
     "metadata": {},
     "output_type": "execute_result"
    }
   ],
   "source": [
    "# np.eye\n",
    "# https://numpy.org/devdocs/reference/generated/numpy.eye.html\n",
    "# 대각선은 1 나머지는 0\n",
    "np.eye(10)"
   ]
  },
  {
   "cell_type": "code",
   "execution_count": null,
   "metadata": {},
   "outputs": [],
   "source": [
    "# 기능이 정말 많으니 필요한 게 있을 때마다 구글링하거나 공식 docs를 뒤적거려보자\n",
    "# https://numpy.org/doc/stable/index.html"
   ]
  }
 ],
 "metadata": {
  "kernelspec": {
   "display_name": "myenv",
   "language": "python",
   "name": "python3"
  },
  "language_info": {
   "codemirror_mode": {
    "name": "ipython",
    "version": 3
   },
   "file_extension": ".py",
   "mimetype": "text/x-python",
   "name": "python",
   "nbconvert_exporter": "python",
   "pygments_lexer": "ipython3",
   "version": "3.9.11"
  }
 },
 "nbformat": 4,
 "nbformat_minor": 2
}
