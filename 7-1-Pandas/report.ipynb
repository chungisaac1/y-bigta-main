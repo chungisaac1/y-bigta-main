{
 "cells": [
  {
   "cell_type": "code",
   "execution_count": 1,
   "metadata": {},
   "outputs": [],
   "source": [
    "import pandas as pd\n"
   ]
  },
  {
   "cell_type": "code",
   "execution_count": 7,
   "metadata": {},
   "outputs": [],
   "source": [
    "data= pd.read_json('/home/isaac/y-bigta/y-project/5-2-Web/results.json')\n",
    "data.to_csv('script.csv',index=False)"
   ]
  },
  {
   "cell_type": "code",
   "execution_count": 8,
   "metadata": {},
   "outputs": [],
   "source": [
    "df = pd.DataFrame(data)"
   ]
  },
  {
   "cell_type": "code",
   "execution_count": 9,
   "metadata": {},
   "outputs": [
    {
     "data": {
      "text/html": [
       "<div>\n",
       "<style scoped>\n",
       "    .dataframe tbody tr th:only-of-type {\n",
       "        vertical-align: middle;\n",
       "    }\n",
       "\n",
       "    .dataframe tbody tr th {\n",
       "        vertical-align: top;\n",
       "    }\n",
       "\n",
       "    .dataframe thead th {\n",
       "        text-align: right;\n",
       "    }\n",
       "</style>\n",
       "<table border=\"1\" class=\"dataframe\">\n",
       "  <thead>\n",
       "    <tr style=\"text-align: right;\">\n",
       "      <th></th>\n",
       "      <th>date</th>\n",
       "      <th>date_edit</th>\n",
       "      <th>href</th>\n",
       "      <th>title</th>\n",
       "      <th>article</th>\n",
       "    </tr>\n",
       "  </thead>\n",
       "  <tbody>\n",
       "    <tr>\n",
       "      <th>0</th>\n",
       "      <td>2024-07-24 23:58:00</td>\n",
       "      <td>2024.07.25 09:08</td>\n",
       "      <td>https://www.hankyung.com/article/202407247138i</td>\n",
       "      <td>美 7월 기업활동 종합 PMI 55.0…27개월만에 최고치</td>\n",
       "      <td>종합구매관리지수(PMI)로 본 미국의 기업 활동이 서비스 부문의 호조로 7월에 27...</td>\n",
       "    </tr>\n",
       "    <tr>\n",
       "      <th>1</th>\n",
       "      <td>2024-07-24 23:07:00</td>\n",
       "      <td>2024.07.25 09:08</td>\n",
       "      <td>https://www.hankyung.com/article/202407247118i</td>\n",
       "      <td>기술주 실적 실망에 나스닥, S&amp;P500 1% 이상 하락</td>\n",
       "      <td>대형주 실적 발표 시즌이 실망스럽게 출발하면서 24일(현지시간) 뉴욕증시는 하락으로...</td>\n",
       "    </tr>\n",
       "    <tr>\n",
       "      <th>2</th>\n",
       "      <td>2024-07-24 22:42:00</td>\n",
       "      <td>2024.07.25 09:08</td>\n",
       "      <td>https://www.hankyung.com/article/202407247089i</td>\n",
       "      <td>글로벌 엔캐리트레이딩 청산...엔저 끝나가나</td>\n",
       "      <td>글로벌 캐리 트레이드 수요가 줄기 시작하면서 일본 엔화가 24일(현지시간) 3일 연...</td>\n",
       "    </tr>\n",
       "    <tr>\n",
       "      <th>3</th>\n",
       "      <td>2024-07-24 22:00:00</td>\n",
       "      <td>2024.07.24 23:31</td>\n",
       "      <td>https://www.hankyung.com/article/202407246354g</td>\n",
       "      <td>\"편의점 안 가도 되겠네\"…3000원대 도시락 내놓자 '불티'</td>\n",
       "      <td>최근 대형마트를 찾는 발길이 예전만 못한 중에서도 마트의 '델리 코너' 메뉴들은 불...</td>\n",
       "    </tr>\n",
       "    <tr>\n",
       "      <th>4</th>\n",
       "      <td>2024-07-24 21:53:00</td>\n",
       "      <td>2024.07.25 09:08</td>\n",
       "      <td>https://www.hankyung.com/article/202407247056i</td>\n",
       "      <td>알파벳, 예상넘는 실적에도 주가하락…이유는?</td>\n",
       "      <td>구글 모회사 알파벳이 예상을 넘는 매출과 마진을 보고하고도 24일(현지시간) 뉴욕증...</td>\n",
       "    </tr>\n",
       "  </tbody>\n",
       "</table>\n",
       "</div>"
      ],
      "text/plain": [
       "                 date         date_edit  \\\n",
       "0 2024-07-24 23:58:00  2024.07.25 09:08   \n",
       "1 2024-07-24 23:07:00  2024.07.25 09:08   \n",
       "2 2024-07-24 22:42:00  2024.07.25 09:08   \n",
       "3 2024-07-24 22:00:00  2024.07.24 23:31   \n",
       "4 2024-07-24 21:53:00  2024.07.25 09:08   \n",
       "\n",
       "                                             href  \\\n",
       "0  https://www.hankyung.com/article/202407247138i   \n",
       "1  https://www.hankyung.com/article/202407247118i   \n",
       "2  https://www.hankyung.com/article/202407247089i   \n",
       "3  https://www.hankyung.com/article/202407246354g   \n",
       "4  https://www.hankyung.com/article/202407247056i   \n",
       "\n",
       "                                title  \\\n",
       "0    美 7월 기업활동 종합 PMI 55.0…27개월만에 최고치   \n",
       "1     기술주 실적 실망에 나스닥, S&P500 1% 이상 하락   \n",
       "2            글로벌 엔캐리트레이딩 청산...엔저 끝나가나   \n",
       "3  \"편의점 안 가도 되겠네\"…3000원대 도시락 내놓자 '불티'   \n",
       "4            알파벳, 예상넘는 실적에도 주가하락…이유는?   \n",
       "\n",
       "                                             article  \n",
       "0  종합구매관리지수(PMI)로 본 미국의 기업 활동이 서비스 부문의 호조로 7월에 27...  \n",
       "1  대형주 실적 발표 시즌이 실망스럽게 출발하면서 24일(현지시간) 뉴욕증시는 하락으로...  \n",
       "2  글로벌 캐리 트레이드 수요가 줄기 시작하면서 일본 엔화가 24일(현지시간) 3일 연...  \n",
       "3  최근 대형마트를 찾는 발길이 예전만 못한 중에서도 마트의 '델리 코너' 메뉴들은 불...  \n",
       "4  구글 모회사 알파벳이 예상을 넘는 매출과 마진을 보고하고도 24일(현지시간) 뉴욕증...  "
      ]
     },
     "execution_count": 9,
     "metadata": {},
     "output_type": "execute_result"
    }
   ],
   "source": [
    "df.head()"
   ]
  },
  {
   "cell_type": "code",
   "execution_count": 10,
   "metadata": {},
   "outputs": [
    {
     "name": "stdout",
     "output_type": "stream",
     "text": [
      "<class 'pandas.core.frame.DataFrame'>\n",
      "RangeIndex: 683 entries, 0 to 682\n",
      "Data columns (total 5 columns):\n",
      " #   Column     Non-Null Count  Dtype         \n",
      "---  ------     --------------  -----         \n",
      " 0   date       683 non-null    datetime64[ns]\n",
      " 1   date_edit  683 non-null    object        \n",
      " 2   href       683 non-null    object        \n",
      " 3   title      683 non-null    object        \n",
      " 4   article    683 non-null    object        \n",
      "dtypes: datetime64[ns](1), object(4)\n",
      "memory usage: 26.8+ KB\n"
     ]
    }
   ],
   "source": [
    "df.info()"
   ]
  },
  {
   "cell_type": "code",
   "execution_count": null,
   "metadata": {},
   "outputs": [],
   "source": []
  }
 ],
 "metadata": {
  "kernelspec": {
   "display_name": "myenv",
   "language": "python",
   "name": "python3"
  },
  "language_info": {
   "codemirror_mode": {
    "name": "ipython",
    "version": 3
   },
   "file_extension": ".py",
   "mimetype": "text/x-python",
   "name": "python",
   "nbconvert_exporter": "python",
   "pygments_lexer": "ipython3",
   "version": "3.9.11"
  }
 },
 "nbformat": 4,
 "nbformat_minor": 2
}
